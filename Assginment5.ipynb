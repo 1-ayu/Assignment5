{
 "cells": [
  {
   "cell_type": "code",
   "execution_count": 15,
   "metadata": {},
   "outputs": [],
   "source": [
    "# 1.\n",
    "class vehicle:\n",
    "\n",
    "    def __init__(self , name , speed , average):\n",
    "        self.name = name\n",
    "        self.max =speed\n",
    "        self.average =average"
   ]
  },
  {
   "cell_type": "code",
   "execution_count": 16,
   "metadata": {},
   "outputs": [],
   "source": [
    "a=vehicle(\"fortuner\",75,13)"
   ]
  },
  {
   "cell_type": "code",
   "execution_count": 20,
   "metadata": {},
   "outputs": [],
   "source": [
    "a.name= \"swift\""
   ]
  },
  {
   "cell_type": "code",
   "execution_count": 21,
   "metadata": {},
   "outputs": [
    {
     "data": {
      "text/plain": [
       "'swift'"
      ]
     },
     "execution_count": 21,
     "metadata": {},
     "output_type": "execute_result"
    }
   ],
   "source": [
    "a.name"
   ]
  },
  {
   "cell_type": "code",
   "execution_count": 22,
   "metadata": {},
   "outputs": [],
   "source": [
    "a.speed = 88"
   ]
  },
  {
   "cell_type": "code",
   "execution_count": 23,
   "metadata": {},
   "outputs": [
    {
     "data": {
      "text/plain": [
       "88"
      ]
     },
     "execution_count": 23,
     "metadata": {},
     "output_type": "execute_result"
    }
   ],
   "source": [
    "a.speed"
   ]
  },
  {
   "cell_type": "code",
   "execution_count": 24,
   "metadata": {},
   "outputs": [],
   "source": [
    "a.average =12"
   ]
  },
  {
   "cell_type": "code",
   "execution_count": 25,
   "metadata": {},
   "outputs": [
    {
     "data": {
      "text/plain": [
       "12"
      ]
     },
     "execution_count": 25,
     "metadata": {},
     "output_type": "execute_result"
    }
   ],
   "source": [
    "a.average"
   ]
  },
  {
   "cell_type": "code",
   "execution_count": null,
   "metadata": {},
   "outputs": [],
   "source": [
    "2.\n",
    "class vehicle:\n",
    "    def __init__(self , name , fuel_type)"
   ]
  },
  {
   "cell_type": "code",
   "execution_count": 1,
   "metadata": {},
   "outputs": [
    {
     "name": "stdout",
     "output_type": "stream",
     "text": [
      "Name: Generic Vehicle, Fuel Type: Gasoline\n",
      "Name: Sedan Car, Fuel Type: Petrol\n",
      "Sedan Car has a seating capacity of 5.\n"
     ]
    }
   ],
   "source": [
    "class Vehicle:\n",
    "    def __init__(self, name, fuel_type):\n",
    "        self.name = name\n",
    "        self.fuel_type = fuel_type\n",
    "\n",
    "    def display_info(self):\n",
    "        return f\"Name: {self.name}, Fuel Type: {self.fuel_type}\"\n",
    "\n",
    "class Car(Vehicle):\n",
    "    def __init__(self, name, fuel_type):\n",
    "        super().__init__(name, fuel_type)\n",
    "\n",
    "    def seating_capacity(self, capacity):\n",
    "        return f\"{self.name} has a seating capacity of {capacity}.\"\n",
    "\n",
    "# Creating instances of the classes\n",
    "vehicle1 = Vehicle(\"Generic Vehicle\", \"Gasoline\")\n",
    "car1 = Car(\"Sedan Car\", \"Petrol\")\n",
    "\n",
    "# Using the methods\n",
    "print(vehicle1.display_info())\n",
    "print(car1.display_info())\n",
    "print(car1.seating_capacity(5))\n"
   ]
  },
  {
   "cell_type": "markdown",
   "metadata": {},
   "source": [
    "3.\n",
    "Multiple Inheritence refers to the Object Oriented Programming where a class can inherit the properties of more than one class.Means a subclass can have multiple superclass.\n"
   ]
  },
  {
   "cell_type": "code",
   "execution_count": 1,
   "metadata": {},
   "outputs": [],
   "source": [
    "# Eg.\n",
    "class ayush:\n",
    "    def yo_ayush(self):\n",
    "        return \"My name is Aayush Raj Karan\""
   ]
  },
  {
   "cell_type": "code",
   "execution_count": 2,
   "metadata": {},
   "outputs": [],
   "source": [
    "class raj:\n",
    "    def yo_raj(self):\n",
    "        return \"I live in Bokaro Steel City\""
   ]
  },
  {
   "cell_type": "code",
   "execution_count": 3,
   "metadata": {},
   "outputs": [],
   "source": [
    "class karan(ayush,raj):\n",
    "    pass"
   ]
  },
  {
   "cell_type": "code",
   "execution_count": 4,
   "metadata": {},
   "outputs": [],
   "source": [
    "object_yo=karan()"
   ]
  },
  {
   "cell_type": "code",
   "execution_count": 7,
   "metadata": {},
   "outputs": [
    {
     "data": {
      "text/plain": [
       "'My name is Aayush Raj Karan'"
      ]
     },
     "execution_count": 7,
     "metadata": {},
     "output_type": "execute_result"
    }
   ],
   "source": [
    "object_yo.yo_ayush()"
   ]
  },
  {
   "cell_type": "code",
   "execution_count": 8,
   "metadata": {},
   "outputs": [
    {
     "data": {
      "text/plain": [
       "'I live in Bokaro Steel City'"
      ]
     },
     "execution_count": 8,
     "metadata": {},
     "output_type": "execute_result"
    }
   ],
   "source": [
    "object_yo.yo_raj()"
   ]
  },
  {
   "cell_type": "markdown",
   "metadata": {},
   "source": [
    "4.Getter and Setter refers to the method which is used to control access of instance variable.It simply allow you to get and set the values of attributes in a controlled manner which can be useful for encapsulation."
   ]
  },
  {
   "cell_type": "code",
   "execution_count": 10,
   "metadata": {},
   "outputs": [],
   "source": [
    "# Eg.\n",
    "class class1:\n",
    "    def __init__(self , name , roll_no , mobile_number):\n",
    "        self.__name=name\n",
    "        self.__roll_no = roll_no\n",
    "        self.__mobile_number = mobile_number\n",
    "    \n",
    "    def set_class1(self,mobile_number):\n",
    "        self.__mobile_number = 0 if mobile_number < 0 else mobile_number\n",
    "\n",
    "    def get_class1(self):\n",
    "        return self.__mobile_number\n",
    "        "
   ]
  },
  {
   "cell_type": "code",
   "execution_count": 13,
   "metadata": {},
   "outputs": [],
   "source": [
    "c=class1(\"Aayush Raj\", 137 , 998727746 )"
   ]
  },
  {
   "cell_type": "code",
   "execution_count": 14,
   "metadata": {},
   "outputs": [
    {
     "data": {
      "text/plain": [
       "998727746"
      ]
     },
     "execution_count": 14,
     "metadata": {},
     "output_type": "execute_result"
    }
   ],
   "source": [
    "c._class1__mobile_number"
   ]
  },
  {
   "cell_type": "code",
   "execution_count": 15,
   "metadata": {},
   "outputs": [],
   "source": [
    "c.set_class1(882477643)"
   ]
  },
  {
   "cell_type": "code",
   "execution_count": 16,
   "metadata": {},
   "outputs": [
    {
     "data": {
      "text/plain": [
       "882477643"
      ]
     },
     "execution_count": 16,
     "metadata": {},
     "output_type": "execute_result"
    }
   ],
   "source": [
    "c.get_class1()"
   ]
  },
  {
   "cell_type": "markdown",
   "metadata": {},
   "source": [
    "5. Method Overriding refers to the feature of object Oriented programming that allows a subclass to provide the implementation of a method that is already defined in its superclass."
   ]
  },
  {
   "cell_type": "code",
   "execution_count": 17,
   "metadata": {},
   "outputs": [
    {
     "name": "stdout",
     "output_type": "stream",
     "text": [
      "Animal speaks\n",
      "Dog barks\n",
      "Cat meows\n"
     ]
    }
   ],
   "source": [
    "# Eg.\n",
    "class Animal:\n",
    "    def speak(self):\n",
    "        print(\"Animal speaks\")\n",
    "\n",
    "class Dog(Animal):\n",
    "    def speak(self):\n",
    "        print(\"Dog barks\")\n",
    "\n",
    "class Cat(Animal):\n",
    "    def speak(self):\n",
    "        print(\"Cat meows\")\n",
    "\n",
    "# Creating instances\n",
    "animal = Animal()\n",
    "dog = Dog()\n",
    "cat = Cat()\n",
    "\n",
    "# Calling overridden methods\n",
    "animal.speak()  # Output: Animal speaks\n",
    "dog.speak()     # Output: Dog barks\n",
    "cat.speak()     # Output: Cat meows\n"
   ]
  },
  {
   "cell_type": "code",
   "execution_count": null,
   "metadata": {},
   "outputs": [],
   "source": []
  }
 ],
 "metadata": {
  "kernelspec": {
   "display_name": "Python 3",
   "language": "python",
   "name": "python3"
  },
  "language_info": {
   "codemirror_mode": {
    "name": "ipython",
    "version": 3
   },
   "file_extension": ".py",
   "mimetype": "text/x-python",
   "name": "python",
   "nbconvert_exporter": "python",
   "pygments_lexer": "ipython3",
   "version": "3.11.4"
  },
  "orig_nbformat": 4
 },
 "nbformat": 4,
 "nbformat_minor": 2
}
